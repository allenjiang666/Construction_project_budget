{
 "cells": [
  {
   "cell_type": "code",
   "execution_count": 1,
   "metadata": {},
   "outputs": [],
   "source": [
    "import pandas as pd\n",
    "import numpy as np"
   ]
  },
  {
   "cell_type": "code",
   "execution_count": 2,
   "metadata": {},
   "outputs": [],
   "source": [
    "data = pd.read_csv('table2.csv')"
   ]
  },
  {
   "cell_type": "markdown",
   "metadata": {},
   "source": [
    "## Select useful columns"
   ]
  },
  {
   "cell_type": "code",
   "execution_count": 3,
   "metadata": {},
   "outputs": [],
   "source": [
    "data = data.iloc[:,[3,5]]"
   ]
  },
  {
   "cell_type": "code",
   "execution_count": 4,
   "metadata": {},
   "outputs": [
    {
     "data": {
      "text/html": [
       "<div>\n",
       "<style scoped>\n",
       "    .dataframe tbody tr th:only-of-type {\n",
       "        vertical-align: middle;\n",
       "    }\n",
       "\n",
       "    .dataframe tbody tr th {\n",
       "        vertical-align: top;\n",
       "    }\n",
       "\n",
       "    .dataframe thead th {\n",
       "        text-align: right;\n",
       "    }\n",
       "</style>\n",
       "<table border=\"1\" class=\"dataframe\">\n",
       "  <thead>\n",
       "    <tr style=\"text-align: right;\">\n",
       "      <th></th>\n",
       "      <th>项目名称</th>\n",
       "      <th>工程数量</th>\n",
       "    </tr>\n",
       "  </thead>\n",
       "  <tbody>\n",
       "    <tr>\n",
       "      <td>571</td>\n",
       "      <td>顶面灯带槽</td>\n",
       "      <td>54.95</td>\n",
       "    </tr>\n",
       "    <tr>\n",
       "      <td>572</td>\n",
       "      <td>顶面吊顶处防指纹拉丝不锈钢线条</td>\n",
       "      <td>37.02</td>\n",
       "    </tr>\n",
       "    <tr>\n",
       "      <td>573</td>\n",
       "      <td>其它项目</td>\n",
       "      <td>NaN</td>\n",
       "    </tr>\n",
       "    <tr>\n",
       "      <td>574</td>\n",
       "      <td>隔断底部挡水条</td>\n",
       "      <td>3.46</td>\n",
       "    </tr>\n",
       "    <tr>\n",
       "      <td>575</td>\n",
       "      <td>实木扶手玻璃栏板</td>\n",
       "      <td>5.45</td>\n",
       "    </tr>\n",
       "    <tr>\n",
       "      <td>576</td>\n",
       "      <td>投标单位增加项目清单部分</td>\n",
       "      <td>NaN</td>\n",
       "    </tr>\n",
       "    <tr>\n",
       "      <td>577</td>\n",
       "      <td>按分包通用合同条款、专用条款及技术要求完成本工程所需但未在上出列项目费用(请分项详列于下)：</td>\n",
       "      <td>NaN</td>\n",
       "    </tr>\n",
       "    <tr>\n",
       "      <td>578</td>\n",
       "      <td>NaN</td>\n",
       "      <td>NaN</td>\n",
       "    </tr>\n",
       "    <tr>\n",
       "      <td>579</td>\n",
       "      <td>NaN</td>\n",
       "      <td>NaN</td>\n",
       "    </tr>\n",
       "    <tr>\n",
       "      <td>580</td>\n",
       "      <td>合  计</td>\n",
       "      <td>NaN</td>\n",
       "    </tr>\n",
       "  </tbody>\n",
       "</table>\n",
       "</div>"
      ],
      "text/plain": [
       "                                               项目名称    工程数量\n",
       "571                                           顶面灯带槽  54.95 \n",
       "572                                 顶面吊顶处防指纹拉丝不锈钢线条  37.02 \n",
       "573                                            其它项目     NaN\n",
       "574                                         隔断底部挡水条   3.46 \n",
       "575                                        实木扶手玻璃栏板   5.45 \n",
       "576                                    投标单位增加项目清单部分     NaN\n",
       "577  按分包通用合同条款、专用条款及技术要求完成本工程所需但未在上出列项目费用(请分项详列于下)：     NaN\n",
       "578                                             NaN     NaN\n",
       "579                                             NaN     NaN\n",
       "580                                            合  计     NaN"
      ]
     },
     "execution_count": 4,
     "metadata": {},
     "output_type": "execute_result"
    }
   ],
   "source": [
    "data.tail(10)"
   ]
  },
  {
   "cell_type": "markdown",
   "metadata": {},
   "source": [
    "## Drop unuseful rows"
   ]
  },
  {
   "cell_type": "code",
   "execution_count": 5,
   "metadata": {},
   "outputs": [
    {
     "data": {
      "text/plain": [
       "[576, 577, 578, 579, 580]"
      ]
     },
     "execution_count": 5,
     "metadata": {},
     "output_type": "execute_result"
    }
   ],
   "source": [
    "rows_to_drop = [n for n in range(576,581)]\n",
    "rows_to_drop"
   ]
  },
  {
   "cell_type": "code",
   "execution_count": 6,
   "metadata": {},
   "outputs": [
    {
     "data": {
      "text/html": [
       "<div>\n",
       "<style scoped>\n",
       "    .dataframe tbody tr th:only-of-type {\n",
       "        vertical-align: middle;\n",
       "    }\n",
       "\n",
       "    .dataframe tbody tr th {\n",
       "        vertical-align: top;\n",
       "    }\n",
       "\n",
       "    .dataframe thead th {\n",
       "        text-align: right;\n",
       "    }\n",
       "</style>\n",
       "<table border=\"1\" class=\"dataframe\">\n",
       "  <thead>\n",
       "    <tr style=\"text-align: right;\">\n",
       "      <th></th>\n",
       "      <th>项目名称</th>\n",
       "      <th>工程数量</th>\n",
       "    </tr>\n",
       "  </thead>\n",
       "  <tbody>\n",
       "    <tr>\n",
       "      <td>566</td>\n",
       "      <td>轻钢龙骨防水石膏板造型吊顶</td>\n",
       "      <td>8.60</td>\n",
       "    </tr>\n",
       "    <tr>\n",
       "      <td>567</td>\n",
       "      <td>顶面刮耐水腻子刷无机涂料</td>\n",
       "      <td>97.88</td>\n",
       "    </tr>\n",
       "    <tr>\n",
       "      <td>568</td>\n",
       "      <td>顶面刮耐水腻子刷防水无机涂料</td>\n",
       "      <td>8.60</td>\n",
       "    </tr>\n",
       "    <tr>\n",
       "      <td>569</td>\n",
       "      <td>管道处成品检修口</td>\n",
       "      <td>1.00</td>\n",
       "    </tr>\n",
       "    <tr>\n",
       "      <td>570</td>\n",
       "      <td>暗式窗帘盒</td>\n",
       "      <td>11.56</td>\n",
       "    </tr>\n",
       "    <tr>\n",
       "      <td>571</td>\n",
       "      <td>顶面灯带槽</td>\n",
       "      <td>54.95</td>\n",
       "    </tr>\n",
       "    <tr>\n",
       "      <td>572</td>\n",
       "      <td>顶面吊顶处防指纹拉丝不锈钢线条</td>\n",
       "      <td>37.02</td>\n",
       "    </tr>\n",
       "    <tr>\n",
       "      <td>573</td>\n",
       "      <td>其它项目</td>\n",
       "      <td>NaN</td>\n",
       "    </tr>\n",
       "    <tr>\n",
       "      <td>574</td>\n",
       "      <td>隔断底部挡水条</td>\n",
       "      <td>3.46</td>\n",
       "    </tr>\n",
       "    <tr>\n",
       "      <td>575</td>\n",
       "      <td>实木扶手玻璃栏板</td>\n",
       "      <td>5.45</td>\n",
       "    </tr>\n",
       "  </tbody>\n",
       "</table>\n",
       "</div>"
      ],
      "text/plain": [
       "                项目名称    工程数量\n",
       "566    轻钢龙骨防水石膏板造型吊顶   8.60 \n",
       "567     顶面刮耐水腻子刷无机涂料  97.88 \n",
       "568   顶面刮耐水腻子刷防水无机涂料   8.60 \n",
       "569         管道处成品检修口   1.00 \n",
       "570            暗式窗帘盒  11.56 \n",
       "571            顶面灯带槽  54.95 \n",
       "572  顶面吊顶处防指纹拉丝不锈钢线条  37.02 \n",
       "573             其它项目     NaN\n",
       "574          隔断底部挡水条   3.46 \n",
       "575         实木扶手玻璃栏板   5.45 "
      ]
     },
     "execution_count": 6,
     "metadata": {},
     "output_type": "execute_result"
    }
   ],
   "source": [
    "data = data.drop(rows_to_drop ).drop([0,1])\n",
    "\n",
    "data.tail(10)"
   ]
  },
  {
   "cell_type": "code",
   "execution_count": 7,
   "metadata": {},
   "outputs": [],
   "source": [
    "#因为包含项目的选项为空值，因此将其去除\n",
    "data = data[~data['项目名称'].str.contains('项目')]"
   ]
  },
  {
   "cell_type": "code",
   "execution_count": 8,
   "metadata": {},
   "outputs": [],
   "source": [
    "data = data.reset_index(drop=True)"
   ]
  },
  {
   "cell_type": "code",
   "execution_count": 9,
   "metadata": {
    "scrolled": false
   },
   "outputs": [
    {
     "data": {
      "text/html": [
       "<div>\n",
       "<style scoped>\n",
       "    .dataframe tbody tr th:only-of-type {\n",
       "        vertical-align: middle;\n",
       "    }\n",
       "\n",
       "    .dataframe tbody tr th {\n",
       "        vertical-align: top;\n",
       "    }\n",
       "\n",
       "    .dataframe thead th {\n",
       "        text-align: right;\n",
       "    }\n",
       "</style>\n",
       "<table border=\"1\" class=\"dataframe\">\n",
       "  <thead>\n",
       "    <tr style=\"text-align: right;\">\n",
       "      <th></th>\n",
       "      <th>项目名称</th>\n",
       "    </tr>\n",
       "  </thead>\n",
       "  <tbody>\n",
       "    <tr>\n",
       "      <td>0</td>\n",
       "      <td>A-1-2</td>\n",
       "    </tr>\n",
       "    <tr>\n",
       "      <td>51</td>\n",
       "      <td>A-2-2</td>\n",
       "    </tr>\n",
       "    <tr>\n",
       "      <td>100</td>\n",
       "      <td>A-3-2下</td>\n",
       "    </tr>\n",
       "    <tr>\n",
       "      <td>149</td>\n",
       "      <td>A-3-2上</td>\n",
       "    </tr>\n",
       "    <tr>\n",
       "      <td>188</td>\n",
       "      <td>B-1-1</td>\n",
       "    </tr>\n",
       "    <tr>\n",
       "      <td>234</td>\n",
       "      <td>B-2-1</td>\n",
       "    </tr>\n",
       "    <tr>\n",
       "      <td>278</td>\n",
       "      <td>B-3-1下</td>\n",
       "    </tr>\n",
       "    <tr>\n",
       "      <td>323</td>\n",
       "      <td>B-3-1上</td>\n",
       "    </tr>\n",
       "    <tr>\n",
       "      <td>359</td>\n",
       "      <td>C-1-1</td>\n",
       "    </tr>\n",
       "    <tr>\n",
       "      <td>405</td>\n",
       "      <td>C-2-1</td>\n",
       "    </tr>\n",
       "    <tr>\n",
       "      <td>449</td>\n",
       "      <td>C-3-1下</td>\n",
       "    </tr>\n",
       "    <tr>\n",
       "      <td>494</td>\n",
       "      <td>C-3-1上</td>\n",
       "    </tr>\n",
       "  </tbody>\n",
       "</table>\n",
       "</div>"
      ],
      "text/plain": [
       "       项目名称\n",
       "0     A-1-2\n",
       "51    A-2-2\n",
       "100  A-3-2下\n",
       "149  A-3-2上\n",
       "188   B-1-1\n",
       "234   B-2-1\n",
       "278  B-3-1下\n",
       "323  B-3-1上\n",
       "359   C-1-1\n",
       "405   C-2-1\n",
       "449  C-3-1下\n",
       "494  C-3-1上"
      ]
     },
     "execution_count": 9,
     "metadata": {},
     "output_type": "execute_result"
    }
   ],
   "source": [
    "apt_type = data[data['工程数量'].isna()].iloc[:,0:1]\n",
    "apt_type"
   ]
  },
  {
   "cell_type": "code",
   "execution_count": 10,
   "metadata": {},
   "outputs": [],
   "source": [
    "# add new column\n",
    "data['户型']=np.nan"
   ]
  },
  {
   "cell_type": "code",
   "execution_count": 11,
   "metadata": {},
   "outputs": [
    {
     "data": {
      "text/html": [
       "<div>\n",
       "<style scoped>\n",
       "    .dataframe tbody tr th:only-of-type {\n",
       "        vertical-align: middle;\n",
       "    }\n",
       "\n",
       "    .dataframe tbody tr th {\n",
       "        vertical-align: top;\n",
       "    }\n",
       "\n",
       "    .dataframe thead th {\n",
       "        text-align: right;\n",
       "    }\n",
       "</style>\n",
       "<table border=\"1\" class=\"dataframe\">\n",
       "  <thead>\n",
       "    <tr style=\"text-align: right;\">\n",
       "      <th></th>\n",
       "      <th>项目名称</th>\n",
       "      <th>工程数量</th>\n",
       "      <th>户型</th>\n",
       "    </tr>\n",
       "  </thead>\n",
       "  <tbody>\n",
       "    <tr>\n",
       "      <td>0</td>\n",
       "      <td>A-1-2</td>\n",
       "      <td>NaN</td>\n",
       "      <td>NaN</td>\n",
       "    </tr>\n",
       "    <tr>\n",
       "      <td>1</td>\n",
       "      <td>地面400*400mm地砖铺贴</td>\n",
       "      <td>4.88</td>\n",
       "      <td>NaN</td>\n",
       "    </tr>\n",
       "    <tr>\n",
       "      <td>2</td>\n",
       "      <td>地面800*800mm地砖铺贴</td>\n",
       "      <td>54.33</td>\n",
       "      <td>NaN</td>\n",
       "    </tr>\n",
       "    <tr>\n",
       "      <td>3</td>\n",
       "      <td>地面800*400mm地砖铺贴</td>\n",
       "      <td>5.61</td>\n",
       "      <td>NaN</td>\n",
       "    </tr>\n",
       "    <tr>\n",
       "      <td>4</td>\n",
       "      <td>地面美缝</td>\n",
       "      <td>56.38</td>\n",
       "      <td>NaN</td>\n",
       "    </tr>\n",
       "  </tbody>\n",
       "</table>\n",
       "</div>"
      ],
      "text/plain": [
       "              项目名称    工程数量  户型\n",
       "0            A-1-2     NaN NaN\n",
       "1  地面400*400mm地砖铺贴   4.88  NaN\n",
       "2  地面800*800mm地砖铺贴  54.33  NaN\n",
       "3  地面800*400mm地砖铺贴   5.61  NaN\n",
       "4             地面美缝  56.38  NaN"
      ]
     },
     "execution_count": 11,
     "metadata": {},
     "output_type": "execute_result"
    }
   ],
   "source": [
    "data.head()"
   ]
  },
  {
   "cell_type": "code",
   "execution_count": 15,
   "metadata": {
    "scrolled": true
   },
   "outputs": [
    {
     "data": {
      "text/plain": [
       "[0, 51, 100, 149, 188, 234, 278, 323, 359, 405, 449, 494, 576]"
      ]
     },
     "execution_count": 15,
     "metadata": {},
     "output_type": "execute_result"
    }
   ],
   "source": [
    "apt_index = apt_type.index.tolist()\n",
    "apt_index.append(576)\n",
    "apt_index"
   ]
  },
  {
   "cell_type": "code",
   "execution_count": 16,
   "metadata": {},
   "outputs": [
    {
     "data": {
      "text/plain": [
       "['A-1-2',\n",
       " 'A-2-2',\n",
       " 'A-3-2下',\n",
       " 'A-3-2上',\n",
       " 'B-1-1',\n",
       " 'B-2-1',\n",
       " 'B-3-1下',\n",
       " 'B-3-1上',\n",
       " 'C-1-1',\n",
       " 'C-2-1',\n",
       " 'C-3-1下',\n",
       " 'C-3-1上']"
      ]
     },
     "execution_count": 16,
     "metadata": {},
     "output_type": "execute_result"
    }
   ],
   "source": [
    "apt_name = apt_type[\"项目名称\"].tolist()\n",
    "apt_name"
   ]
  },
  {
   "cell_type": "code",
   "execution_count": 17,
   "metadata": {},
   "outputs": [
    {
     "name": "stdout",
     "output_type": "stream",
     "text": [
      "0 A-1-2\n",
      "1 A-2-2\n",
      "2 A-3-2下\n",
      "3 A-3-2上\n",
      "4 B-1-1\n",
      "5 B-2-1\n",
      "6 B-3-1下\n",
      "7 B-3-1上\n",
      "8 C-1-1\n",
      "9 C-2-1\n",
      "10 C-3-1下\n",
      "11 C-3-1上\n"
     ]
    },
    {
     "name": "stderr",
     "output_type": "stream",
     "text": [
      "/usr/local/anaconda3/lib/python3.7/site-packages/ipykernel_launcher.py:2: SettingWithCopyWarning: \n",
      "A value is trying to be set on a copy of a slice from a DataFrame\n",
      "\n",
      "See the caveats in the documentation: http://pandas.pydata.org/pandas-docs/stable/user_guide/indexing.html#returning-a-view-versus-a-copy\n",
      "  \n"
     ]
    }
   ],
   "source": [
    "for i, (a, b) in enumerate(zip(apt_index, apt_name)):\n",
    "    data['户型'][apt_index[i]:apt_index[i+1]]=b\n",
    "    print(i,b)"
   ]
  },
  {
   "cell_type": "code",
   "execution_count": 131,
   "metadata": {},
   "outputs": [],
   "source": [
    "data = data.drop([0, 51, 100, 149, 188, 234, 278, 323, 359, 405, 449, 494])"
   ]
  },
  {
   "cell_type": "markdown",
   "metadata": {},
   "source": [
    "## 创建户型的表格"
   ]
  },
  {
   "cell_type": "code",
   "execution_count": 18,
   "metadata": {},
   "outputs": [],
   "source": [
    "type_number = pd.read_clipboard(index_col =False).T"
   ]
  },
  {
   "cell_type": "code",
   "execution_count": 19,
   "metadata": {},
   "outputs": [],
   "source": [
    "type_number=type_number.reset_index()"
   ]
  },
  {
   "cell_type": "code",
   "execution_count": 20,
   "metadata": {},
   "outputs": [],
   "source": [
    "type_number.columns = type_number.iloc[0]"
   ]
  },
  {
   "cell_type": "code",
   "execution_count": 21,
   "metadata": {
    "scrolled": false
   },
   "outputs": [
    {
     "data": {
      "text/html": [
       "<div>\n",
       "<style scoped>\n",
       "    .dataframe tbody tr th:only-of-type {\n",
       "        vertical-align: middle;\n",
       "    }\n",
       "\n",
       "    .dataframe tbody tr th {\n",
       "        vertical-align: top;\n",
       "    }\n",
       "\n",
       "    .dataframe thead th {\n",
       "        text-align: right;\n",
       "    }\n",
       "</style>\n",
       "<table border=\"1\" class=\"dataframe\">\n",
       "  <thead>\n",
       "    <tr style=\"text-align: right;\">\n",
       "      <th></th>\n",
       "      <th>户型</th>\n",
       "      <th>户数</th>\n",
       "    </tr>\n",
       "  </thead>\n",
       "  <tbody>\n",
       "    <tr>\n",
       "      <td>1</td>\n",
       "      <td>A-1-2</td>\n",
       "      <td>1</td>\n",
       "    </tr>\n",
       "    <tr>\n",
       "      <td>2</td>\n",
       "      <td>A-2-2</td>\n",
       "      <td>2</td>\n",
       "    </tr>\n",
       "    <tr>\n",
       "      <td>3</td>\n",
       "      <td>A-3-2下</td>\n",
       "      <td>1</td>\n",
       "    </tr>\n",
       "    <tr>\n",
       "      <td>4</td>\n",
       "      <td>A-3-2上</td>\n",
       "      <td>1</td>\n",
       "    </tr>\n",
       "    <tr>\n",
       "      <td>5</td>\n",
       "      <td>B-1-1</td>\n",
       "      <td>1</td>\n",
       "    </tr>\n",
       "    <tr>\n",
       "      <td>6</td>\n",
       "      <td>B-2-1</td>\n",
       "      <td>2</td>\n",
       "    </tr>\n",
       "    <tr>\n",
       "      <td>7</td>\n",
       "      <td>B-3-1下</td>\n",
       "      <td>1</td>\n",
       "    </tr>\n",
       "    <tr>\n",
       "      <td>8</td>\n",
       "      <td>B-3-1上</td>\n",
       "      <td>1</td>\n",
       "    </tr>\n",
       "    <tr>\n",
       "      <td>9</td>\n",
       "      <td>C-1-1</td>\n",
       "      <td>2</td>\n",
       "    </tr>\n",
       "    <tr>\n",
       "      <td>10</td>\n",
       "      <td>C-2-1</td>\n",
       "      <td>6</td>\n",
       "    </tr>\n",
       "    <tr>\n",
       "      <td>11</td>\n",
       "      <td>C-3-1下</td>\n",
       "      <td>2</td>\n",
       "    </tr>\n",
       "    <tr>\n",
       "      <td>12</td>\n",
       "      <td>C-3-1上</td>\n",
       "      <td>2</td>\n",
       "    </tr>\n",
       "  </tbody>\n",
       "</table>\n",
       "</div>"
      ],
      "text/plain": [
       "0       户型 户数\n",
       "1    A-1-2  1\n",
       "2    A-2-2  2\n",
       "3   A-3-2下  1\n",
       "4   A-3-2上  1\n",
       "5    B-1-1  1\n",
       "6    B-2-1  2\n",
       "7   B-3-1下  1\n",
       "8   B-3-1上  1\n",
       "9    C-1-1  2\n",
       "10   C-2-1  6\n",
       "11  C-3-1下  2\n",
       "12  C-3-1上  2"
      ]
     },
     "execution_count": 21,
     "metadata": {},
     "output_type": "execute_result"
    }
   ],
   "source": [
    "type_number = type_number.iloc[1:]\n",
    "type_number"
   ]
  },
  {
   "cell_type": "code",
   "execution_count": 22,
   "metadata": {},
   "outputs": [],
   "source": [
    "type_number.to_csv('户数.csv')"
   ]
  },
  {
   "cell_type": "code",
   "execution_count": 23,
   "metadata": {},
   "outputs": [
    {
     "data": {
      "text/html": [
       "<div>\n",
       "<style scoped>\n",
       "    .dataframe tbody tr th:only-of-type {\n",
       "        vertical-align: middle;\n",
       "    }\n",
       "\n",
       "    .dataframe tbody tr th {\n",
       "        vertical-align: top;\n",
       "    }\n",
       "\n",
       "    .dataframe thead th {\n",
       "        text-align: right;\n",
       "    }\n",
       "</style>\n",
       "<table border=\"1\" class=\"dataframe\">\n",
       "  <thead>\n",
       "    <tr style=\"text-align: right;\">\n",
       "      <th></th>\n",
       "      <th>项目名称</th>\n",
       "      <th>工程数量</th>\n",
       "      <th>户型</th>\n",
       "      <th>户数</th>\n",
       "    </tr>\n",
       "  </thead>\n",
       "  <tbody>\n",
       "    <tr>\n",
       "      <td>429</td>\n",
       "      <td>防指纹拉丝不锈钢线条\\n 展开宽度b=45</td>\n",
       "      <td>31.97</td>\n",
       "      <td>C-2-1</td>\n",
       "      <td>6</td>\n",
       "    </tr>\n",
       "    <tr>\n",
       "      <td>351</td>\n",
       "      <td>暗式窗帘盒</td>\n",
       "      <td>16.53</td>\n",
       "      <td>B-3-1上</td>\n",
       "      <td>1</td>\n",
       "    </tr>\n",
       "    <tr>\n",
       "      <td>45</td>\n",
       "      <td>隔断底部挡水条</td>\n",
       "      <td>2.55</td>\n",
       "      <td>A-1-2</td>\n",
       "      <td>1</td>\n",
       "    </tr>\n",
       "    <tr>\n",
       "      <td>291</td>\n",
       "      <td>1.5厚聚氨酯防水涂料</td>\n",
       "      <td>13.19</td>\n",
       "      <td>B-3-1下</td>\n",
       "      <td>1</td>\n",
       "    </tr>\n",
       "    <tr>\n",
       "      <td>378</td>\n",
       "      <td>墙面刮耐水腻子刷无机涂料</td>\n",
       "      <td>3.94</td>\n",
       "      <td>C-1-1</td>\n",
       "      <td>2</td>\n",
       "    </tr>\n",
       "    <tr>\n",
       "      <td>307</td>\n",
       "      <td>防指纹拉丝不锈钢线条\\n 展开宽度b=55</td>\n",
       "      <td>5.64</td>\n",
       "      <td>B-3-1下</td>\n",
       "      <td>1</td>\n",
       "    </tr>\n",
       "    <tr>\n",
       "      <td>246</td>\n",
       "      <td>最薄处20厚1:3水泥砂浆1%找坡层</td>\n",
       "      <td>9.72</td>\n",
       "      <td>B-2-1</td>\n",
       "      <td>2</td>\n",
       "    </tr>\n",
       "    <tr>\n",
       "      <td>388</td>\n",
       "      <td>防指纹拉丝不锈钢线条\\n 展开宽度b=62</td>\n",
       "      <td>6.68</td>\n",
       "      <td>C-1-1</td>\n",
       "      <td>2</td>\n",
       "    </tr>\n",
       "    <tr>\n",
       "      <td>189</td>\n",
       "      <td>地面400*400mm地砖铺贴</td>\n",
       "      <td>5.73</td>\n",
       "      <td>B-1-1</td>\n",
       "      <td>1</td>\n",
       "    </tr>\n",
       "    <tr>\n",
       "      <td>323</td>\n",
       "      <td>B-3-1上</td>\n",
       "      <td>NaN</td>\n",
       "      <td>B-3-1上</td>\n",
       "      <td>1</td>\n",
       "    </tr>\n",
       "    <tr>\n",
       "      <td>362</td>\n",
       "      <td>地面800*400mm地砖铺贴</td>\n",
       "      <td>4.36</td>\n",
       "      <td>C-1-1</td>\n",
       "      <td>2</td>\n",
       "    </tr>\n",
       "    <tr>\n",
       "      <td>62</td>\n",
       "      <td>地面弧形处水刀切割</td>\n",
       "      <td>24.00</td>\n",
       "      <td>A-2-2</td>\n",
       "      <td>2</td>\n",
       "    </tr>\n",
       "    <tr>\n",
       "      <td>374</td>\n",
       "      <td>楼梯石材地面</td>\n",
       "      <td>2.63</td>\n",
       "      <td>C-1-1</td>\n",
       "      <td>2</td>\n",
       "    </tr>\n",
       "    <tr>\n",
       "      <td>40</td>\n",
       "      <td>管道处成品检修口</td>\n",
       "      <td>3.00</td>\n",
       "      <td>A-1-2</td>\n",
       "      <td>1</td>\n",
       "    </tr>\n",
       "    <tr>\n",
       "      <td>454</td>\n",
       "      <td>木地板下找平</td>\n",
       "      <td>40.50</td>\n",
       "      <td>C-3-1下</td>\n",
       "      <td>2</td>\n",
       "    </tr>\n",
       "    <tr>\n",
       "      <td>494</td>\n",
       "      <td>C-3-1上</td>\n",
       "      <td>NaN</td>\n",
       "      <td>C-3-1上</td>\n",
       "      <td>2</td>\n",
       "    </tr>\n",
       "    <tr>\n",
       "      <td>106</td>\n",
       "      <td>防指纹拉丝不锈钢踢脚线</td>\n",
       "      <td>74.83</td>\n",
       "      <td>A-3-2下</td>\n",
       "      <td>1</td>\n",
       "    </tr>\n",
       "    <tr>\n",
       "      <td>467</td>\n",
       "      <td>墙面砖（900*1800mm）</td>\n",
       "      <td>6.70</td>\n",
       "      <td>C-3-1下</td>\n",
       "      <td>2</td>\n",
       "    </tr>\n",
       "    <tr>\n",
       "      <td>83</td>\n",
       "      <td>防水层（立面）1.2厚JS防水涂料</td>\n",
       "      <td>9.52</td>\n",
       "      <td>A-2-2</td>\n",
       "      <td>2</td>\n",
       "    </tr>\n",
       "    <tr>\n",
       "      <td>227</td>\n",
       "      <td>顶面刮耐水腻子刷防水无机涂料</td>\n",
       "      <td>8.17</td>\n",
       "      <td>B-1-1</td>\n",
       "      <td>1</td>\n",
       "    </tr>\n",
       "  </tbody>\n",
       "</table>\n",
       "</div>"
      ],
      "text/plain": [
       "                      项目名称    工程数量      户型 户数\n",
       "429  防指纹拉丝不锈钢线条\\n 展开宽度b=45  31.97    C-2-1  6\n",
       "351                  暗式窗帘盒  16.53   B-3-1上  1\n",
       "45                 隔断底部挡水条   2.55    A-1-2  1\n",
       "291            1.5厚聚氨酯防水涂料  13.19   B-3-1下  1\n",
       "378           墙面刮耐水腻子刷无机涂料   3.94    C-1-1  2\n",
       "307  防指纹拉丝不锈钢线条\\n 展开宽度b=55   5.64   B-3-1下  1\n",
       "246     最薄处20厚1:3水泥砂浆1%找坡层   9.72    B-2-1  2\n",
       "388  防指纹拉丝不锈钢线条\\n 展开宽度b=62   6.68    C-1-1  2\n",
       "189        地面400*400mm地砖铺贴   5.73    B-1-1  1\n",
       "323                 B-3-1上     NaN  B-3-1上  1\n",
       "362        地面800*400mm地砖铺贴   4.36    C-1-1  2\n",
       "62               地面弧形处水刀切割  24.00    A-2-2  2\n",
       "374                 楼梯石材地面   2.63    C-1-1  2\n",
       "40                管道处成品检修口   3.00    A-1-2  1\n",
       "454                 木地板下找平  40.50   C-3-1下  2\n",
       "494                 C-3-1上     NaN  C-3-1上  2\n",
       "106            防指纹拉丝不锈钢踢脚线  74.83   A-3-2下  1\n",
       "467        墙面砖（900*1800mm）   6.70   C-3-1下  2\n",
       "83       防水层（立面）1.2厚JS防水涂料   9.52    A-2-2  2\n",
       "227         顶面刮耐水腻子刷防水无机涂料   8.17    B-1-1  1"
      ]
     },
     "execution_count": 23,
     "metadata": {},
     "output_type": "execute_result"
    }
   ],
   "source": [
    "processed_data = pd.merge(data, type_number, left_on='户型', right_on='户型', how='left')\n",
    "processed_data.sample(20)"
   ]
  },
  {
   "cell_type": "code",
   "execution_count": 24,
   "metadata": {
    "scrolled": false
   },
   "outputs": [
    {
     "data": {
      "text/html": [
       "<div>\n",
       "<style scoped>\n",
       "    .dataframe tbody tr th:only-of-type {\n",
       "        vertical-align: middle;\n",
       "    }\n",
       "\n",
       "    .dataframe tbody tr th {\n",
       "        vertical-align: top;\n",
       "    }\n",
       "\n",
       "    .dataframe thead th {\n",
       "        text-align: right;\n",
       "    }\n",
       "</style>\n",
       "<table border=\"1\" class=\"dataframe\">\n",
       "  <thead>\n",
       "    <tr style=\"text-align: right;\">\n",
       "      <th></th>\n",
       "      <th></th>\n",
       "      <th>工程数量</th>\n",
       "      <th>户数</th>\n",
       "    </tr>\n",
       "    <tr>\n",
       "      <th>项目名称</th>\n",
       "      <th>户型</th>\n",
       "      <th></th>\n",
       "      <th></th>\n",
       "    </tr>\n",
       "  </thead>\n",
       "  <tbody>\n",
       "    <tr>\n",
       "      <td rowspan=\"10\" valign=\"top\">1.5厚聚氨酯防水涂料</td>\n",
       "      <td>A-1-2</td>\n",
       "      <td>16.51</td>\n",
       "      <td>1.0</td>\n",
       "    </tr>\n",
       "    <tr>\n",
       "      <td>A-2-2</td>\n",
       "      <td>16.51</td>\n",
       "      <td>2.0</td>\n",
       "    </tr>\n",
       "    <tr>\n",
       "      <td>A-3-2上</td>\n",
       "      <td>12.46</td>\n",
       "      <td>1.0</td>\n",
       "    </tr>\n",
       "    <tr>\n",
       "      <td>A-3-2下</td>\n",
       "      <td>16.51</td>\n",
       "      <td>1.0</td>\n",
       "    </tr>\n",
       "    <tr>\n",
       "      <td>B-1-1</td>\n",
       "      <td>13.19</td>\n",
       "      <td>1.0</td>\n",
       "    </tr>\n",
       "    <tr>\n",
       "      <td>B-2-1</td>\n",
       "      <td>13.87</td>\n",
       "      <td>2.0</td>\n",
       "    </tr>\n",
       "    <tr>\n",
       "      <td>B-3-1上</td>\n",
       "      <td>12.13</td>\n",
       "      <td>1.0</td>\n",
       "    </tr>\n",
       "    <tr>\n",
       "      <td>B-3-1下</td>\n",
       "      <td>13.19</td>\n",
       "      <td>1.0</td>\n",
       "    </tr>\n",
       "    <tr>\n",
       "      <td>C-1-1</td>\n",
       "      <td>11.61</td>\n",
       "      <td>2.0</td>\n",
       "    </tr>\n",
       "    <tr>\n",
       "      <td>C-2-1</td>\n",
       "      <td>13.81</td>\n",
       "      <td>6.0</td>\n",
       "    </tr>\n",
       "  </tbody>\n",
       "</table>\n",
       "</div>"
      ],
      "text/plain": [
       "                      工程数量   户数\n",
       "项目名称        户型                 \n",
       "1.5厚聚氨酯防水涂料 A-1-2   16.51   1.0\n",
       "            A-2-2   16.51   2.0\n",
       "            A-3-2上  12.46   1.0\n",
       "            A-3-2下  16.51   1.0\n",
       "            B-1-1   13.19   1.0\n",
       "            B-2-1   13.87   2.0\n",
       "            B-3-1上  12.13   1.0\n",
       "            B-3-1下  13.19   1.0\n",
       "            C-1-1   11.61   2.0\n",
       "            C-2-1   13.81   6.0"
      ]
     },
     "execution_count": 24,
     "metadata": {},
     "output_type": "execute_result"
    }
   ],
   "source": [
    "groupby_df = processed_data.groupby(['项目名称','户型']).sum()\n",
    "groupby_df.head(10)"
   ]
  },
  {
   "cell_type": "code",
   "execution_count": 25,
   "metadata": {},
   "outputs": [],
   "source": [
    "groupby_df['工程数量']= groupby_df['工程数量'].astype('float')"
   ]
  },
  {
   "cell_type": "code",
   "execution_count": 26,
   "metadata": {},
   "outputs": [],
   "source": [
    "groupby_df['总工程量']=groupby_df['工程数量']*groupby_df['户数']\n"
   ]
  },
  {
   "cell_type": "code",
   "execution_count": 27,
   "metadata": {},
   "outputs": [
    {
     "data": {
      "text/plain": [
       "项目名称\n",
       "1.5厚聚氨酯防水涂料         296.67\n",
       "20mm宽地面瓷砖波打线        409.26\n",
       "30mm厚水泥砂浆楼地面保护层     208.32\n",
       "40mm宽地面瓷砖波打线        409.26\n",
       "A-1-2                 0.00\n",
       "                    ...   \n",
       "零星砌体                  0.33\n",
       "顶面刮耐水腻子刷无机涂料       2329.49\n",
       "顶面刮耐水腻子刷防水无机涂料      200.15\n",
       "顶面吊顶处防指纹拉丝不锈钢线条     912.13\n",
       "顶面灯带槽               728.57\n",
       "Name: 总工程量, Length: 62, dtype: float64"
      ]
     },
     "execution_count": 27,
     "metadata": {},
     "output_type": "execute_result"
    }
   ],
   "source": [
    "groupby_df.groupby(['项目名称'])['总工程量'].sum()"
   ]
  },
  {
   "cell_type": "code",
   "execution_count": 154,
   "metadata": {},
   "outputs": [],
   "source": [
    "processed_data.to_excel('整理后数据.xlsx')"
   ]
  },
  {
   "cell_type": "code",
   "execution_count": null,
   "metadata": {},
   "outputs": [],
   "source": []
  }
 ],
 "metadata": {
  "kernelspec": {
   "display_name": "Python 3",
   "language": "python",
   "name": "python3"
  },
  "language_info": {
   "codemirror_mode": {
    "name": "ipython",
    "version": 3
   },
   "file_extension": ".py",
   "mimetype": "text/x-python",
   "name": "python",
   "nbconvert_exporter": "python",
   "pygments_lexer": "ipython3",
   "version": "3.7.4"
  },
  "toc": {
   "base_numbering": 1,
   "nav_menu": {},
   "number_sections": true,
   "sideBar": true,
   "skip_h1_title": false,
   "title_cell": "Table of Contents",
   "title_sidebar": "Contents",
   "toc_cell": false,
   "toc_position": {},
   "toc_section_display": true,
   "toc_window_display": false
  }
 },
 "nbformat": 4,
 "nbformat_minor": 2
}
